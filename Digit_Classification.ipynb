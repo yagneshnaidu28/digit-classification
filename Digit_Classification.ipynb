{
  "nbformat": 4,
  "nbformat_minor": 0,
  "metadata": {
    "colab": {
      "provenance": []
    },
    "kernelspec": {
      "name": "python3",
      "display_name": "Python 3"
    },
    "language_info": {
      "name": "python"
    }
  },
  "cells": [
    {
      "cell_type": "code",
      "execution_count": null,
      "metadata": {
        "id": "kM-VjZIwdSea"
      },
      "outputs": [],
      "source": [
        "import tensorflow\n",
        "from tensorflow import keras\n",
        "from tensorflow.keras import Sequential\n",
        "from tensorflow.keras.layers import Dense,Flatten\n",
        "import matplotlib.pyplot as plt"
      ]
    },
    {
      "cell_type": "code",
      "source": [
        "(X_train,y_train),(X_test,y_test) = keras.datasets.mnist.load_data()"
      ],
      "metadata": {
        "id": "b32ILbH5dp3E"
      },
      "execution_count": null,
      "outputs": []
    },
    {
      "cell_type": "code",
      "source": [
        "X_test.shape"
      ],
      "metadata": {
        "colab": {
          "base_uri": "https://localhost:8080/"
        },
        "id": "q84B5-q-dsUB",
        "outputId": "fb246183-8e3c-4854-900f-3cb93cf039e1"
      },
      "execution_count": null,
      "outputs": [
        {
          "output_type": "execute_result",
          "data": {
            "text/plain": [
              "(10000, 28, 28)"
            ]
          },
          "metadata": {},
          "execution_count": 34
        }
      ]
    },
    {
      "cell_type": "code",
      "source": [
        "y_train"
      ],
      "metadata": {
        "colab": {
          "base_uri": "https://localhost:8080/"
        },
        "id": "K1tv7lB7eUMj",
        "outputId": "79da3b7b-cdaf-42f4-a8b3-c976e0807cd5"
      },
      "execution_count": null,
      "outputs": [
        {
          "output_type": "execute_result",
          "data": {
            "text/plain": [
              "array([5, 0, 4, ..., 5, 6, 8], dtype=uint8)"
            ]
          },
          "metadata": {},
          "execution_count": 35
        }
      ]
    },
    {
      "cell_type": "code",
      "source": [
        "plt.imshow(X_train[2])"
      ],
      "metadata": {
        "colab": {
          "base_uri": "https://localhost:8080/",
          "height": 447
        },
        "id": "5Ap1akiIeX9C",
        "outputId": "3003bc0c-c5ef-434f-a466-f66835eb2672"
      },
      "execution_count": null,
      "outputs": [
        {
          "output_type": "execute_result",
          "data": {
            "text/plain": [
              "<matplotlib.image.AxesImage at 0x7be7266a7bb0>"
            ]
          },
          "metadata": {},
          "execution_count": 36
        },
        {
          "output_type": "display_data",
          "data": {
            "text/plain": [
              "<Figure size 640x480 with 1 Axes>"
            ],
            "image/png": "[encoded data removed]"
          },
          "metadata": {}
        }
      ]
    },
    {
      "cell_type": "code",
      "source": [
        "X_train = X_train/255\n",
        "X_test = X_test/255"
      ],
      "metadata": {
        "id": "kDDoXY44eeHO"
      },
      "execution_count": null,
      "outputs": []
    },
    {
      "cell_type": "code",
      "source": [
        "model = Sequential()\n",
        "\n",
        "model.add(Flatten(input_shape=(28,28)))\n",
        "model.add(Dense(128,activation='relu'))\n",
        "model.add(Dense(32,activation='relu'))\n",
        "model.add(Dense(10,activation='softmax'))"
      ],
      "metadata": {
        "id": "avynCPP9enz6"
      },
      "execution_count": null,
      "outputs": []
    },
    {
      "cell_type": "code",
      "source": [
        "model.compile(loss='sparse_categorical_crossentropy',optimizer='Adam',metrics=['accuracy'])"
      ],
      "metadata": {
        "id": "MwmFfMKIfV79"
      },
      "execution_count": null,
      "outputs": []
    },
    {
      "cell_type": "code",
      "source": [
        "history = model.fit(X_train,y_train,epochs=25,validation_split=0.2)"
      ],
      "metadata": {
        "colab": {
          "base_uri": "https://localhost:8080/"
        },
        "id": "uznJPL1afhDv",
        "outputId": "2760b6c2-0f40-4770-8de0-2bc479468c88"
      },
      "execution_count": null,
      "outputs": [
        {
          "output_type": "stream",
          "name": "stdout",
          "text": [
            "Epoch 1/25\n",
            "1500/1500 [==============================] - 7s 4ms/step - loss: 0.2864 - accuracy: 0.9166 - val_loss: 0.1530 - val_accuracy: 0.9534\n",
            "Epoch 2/25\n",
            "1500/1500 [==============================] - 7s 4ms/step - loss: 0.1187 - accuracy: 0.9646 - val_loss: 0.1271 - val_accuracy: 0.9636\n",
            "Epoch 3/25\n",
            "1500/1500 [==============================] - 7s 4ms/step - loss: 0.0839 - accuracy: 0.9743 - val_loss: 0.0953 - val_accuracy: 0.9716\n",
            "Epoch 4/25\n",
            "1500/1500 [==============================] - 6s 4ms/step - loss: 0.0631 - accuracy: 0.9805 - val_loss: 0.0928 - val_accuracy: 0.9736\n",
            "Epoch 5/25\n",
            "1500/1500 [==============================] - 6s 4ms/step - loss: 0.0483 - accuracy: 0.9850 - val_loss: 0.0939 - val_accuracy: 0.9733\n",
            "Epoch 6/25\n",
            "1500/1500 [==============================] - 6s 4ms/step - loss: 0.0383 - accuracy: 0.9877 - val_loss: 0.0949 - val_accuracy: 0.9738\n",
            "Epoch 7/25\n",
            "1500/1500 [==============================] - 6s 4ms/step - loss: 0.0317 - accuracy: 0.9900 - val_loss: 0.0911 - val_accuracy: 0.9752\n",
            "Epoch 8/25\n",
            "1500/1500 [==============================] - 6s 4ms/step - loss: 0.0262 - accuracy: 0.9911 - val_loss: 0.1044 - val_accuracy: 0.9728\n",
            "Epoch 9/25\n",
            "1500/1500 [==============================] - 6s 4ms/step - loss: 0.0224 - accuracy: 0.9925 - val_loss: 0.1294 - val_accuracy: 0.9691\n",
            "Epoch 10/25\n",
            "1500/1500 [==============================] - 6s 4ms/step - loss: 0.0177 - accuracy: 0.9943 - val_loss: 0.1152 - val_accuracy: 0.9728\n",
            "Epoch 11/25\n",
            "1500/1500 [==============================] - 7s 4ms/step - loss: 0.0168 - accuracy: 0.9942 - val_loss: 0.1049 - val_accuracy: 0.9771\n",
            "Epoch 12/25\n",
            "1500/1500 [==============================] - 6s 4ms/step - loss: 0.0143 - accuracy: 0.9949 - val_loss: 0.1272 - val_accuracy: 0.9753\n",
            "Epoch 13/25\n",
            "1500/1500 [==============================] - 6s 4ms/step - loss: 0.0152 - accuracy: 0.9950 - val_loss: 0.1122 - val_accuracy: 0.9772\n",
            "Epoch 14/25\n",
            "1500/1500 [==============================] - 7s 4ms/step - loss: 0.0097 - accuracy: 0.9966 - val_loss: 0.1137 - val_accuracy: 0.9785\n",
            "Epoch 15/25\n",
            "1500/1500 [==============================] - 7s 4ms/step - loss: 0.0123 - accuracy: 0.9957 - val_loss: 0.1221 - val_accuracy: 0.9768\n",
            "Epoch 16/25\n",
            "1500/1500 [==============================] - 7s 4ms/step - loss: 0.0105 - accuracy: 0.9964 - val_loss: 0.1202 - val_accuracy: 0.9778\n",
            "Epoch 17/25\n",
            "1500/1500 [==============================] - 7s 5ms/step - loss: 0.0103 - accuracy: 0.9966 - val_loss: 0.1291 - val_accuracy: 0.9782\n",
            "Epoch 18/25\n",
            "1500/1500 [==============================] - 6s 4ms/step - loss: 0.0110 - accuracy: 0.9963 - val_loss: 0.1457 - val_accuracy: 0.9745\n",
            "Epoch 19/25\n",
            "1500/1500 [==============================] - 9s 6ms/step - loss: 0.0074 - accuracy: 0.9975 - val_loss: 0.1377 - val_accuracy: 0.9789\n",
            "Epoch 20/25\n",
            "1500/1500 [==============================] - 8s 5ms/step - loss: 0.0118 - accuracy: 0.9963 - val_loss: 0.1320 - val_accuracy: 0.9774\n",
            "Epoch 21/25\n",
            "1500/1500 [==============================] - 9s 6ms/step - loss: 0.0085 - accuracy: 0.9974 - val_loss: 0.1548 - val_accuracy: 0.9733\n",
            "Epoch 22/25\n",
            "1500/1500 [==============================] - 8s 6ms/step - loss: 0.0083 - accuracy: 0.9974 - val_loss: 0.1649 - val_accuracy: 0.9728\n",
            "Epoch 23/25\n",
            "1500/1500 [==============================] - 8s 5ms/step - loss: 0.0076 - accuracy: 0.9975 - val_loss: 0.1587 - val_accuracy: 0.9764\n",
            "Epoch 24/25\n",
            "1500/1500 [==============================] - 7s 5ms/step - loss: 0.0086 - accuracy: 0.9974 - val_loss: 0.1577 - val_accuracy: 0.9744\n",
            "Epoch 25/25\n",
            "1500/1500 [==============================] - 7s 5ms/step - loss: 0.0083 - accuracy: 0.9975 - val_loss: 0.1537 - val_accuracy: 0.9767\n"
          ]
        }
      ]
    },
    {
      "cell_type": "code",
      "source": [
        "y_prob = model.predict(X_test)"
      ],
      "metadata": {
        "colab": {
          "base_uri": "https://localhost:8080/"
        },
        "id": "hfkjn7YafoCJ",
        "outputId": "7667cba2-7dae-47ff-f81e-3eded1c8c55f"
      },
      "execution_count": null,
      "outputs": [
        {
          "output_type": "stream",
          "name": "stdout",
          "text": [
            "313/313 [==============================] - 1s 2ms/step\n"
          ]
        }
      ]
    },
    {
      "cell_type": "code",
      "source": [
        "y_pred = y_prob.argmax(axis=1)"
      ],
      "metadata": {
        "id": "ufl99eu-fqHR"
      },
      "execution_count": null,
      "outputs": []
    },
    {
      "cell_type": "code",
      "source": [
        "from sklearn.metrics import accuracy_score\n",
        "accuracy_score(y_test,y_pred)"
      ],
      "metadata": {
        "colab": {
          "base_uri": "https://localhost:8080/"
        },
        "id": "ou91Ph2ffsvm",
        "outputId": "83d76647-cb3d-499f-b167-72b5363f1c24"
      },
      "execution_count": null,
      "outputs": [
        {
          "output_type": "execute_result",
          "data": {
            "text/plain": [
              "0.9769"
            ]
          },
          "metadata": {},
          "execution_count": 46
        }
      ]
    },
    {
      "cell_type": "code",
      "source": [
        "plt.imshow(X_test[0])"
      ],
      "metadata": {
        "colab": {
          "base_uri": "https://localhost:8080/",
          "height": 447
        },
        "id": "WgMEdRXNfvd9",
        "outputId": "3f5a2cf9-0948-43cb-fc80-758a47465c9d"
      },
      "execution_count": null,
      "outputs": [
        {
          "output_type": "execute_result",
          "data": {
            "text/plain": [
              "<matplotlib.image.AxesImage at 0x7be72bb6b580>"
            ]
          },
          "metadata": {},
          "execution_count": 47
        },
        {
          "output_type": "display_data",
          "data": {
            "text/plain": [
              "<Figure size 640x480 with 1 Axes>"
            ],
            "image/png": "[encoded data removed]"
          },
          "metadata": {}
        }
      ]
    },
    {
      "cell_type": "code",
      "source": [
        "model.predict(X_test[0].reshape(1,28,28)).argmax(axis=1)"
      ],
      "metadata": {
        "colab": {
          "base_uri": "https://localhost:8080/"
        },
        "id": "zpqFOkXtfx_Z",
        "outputId": "2c81079e-edbe-4477-995f-a4cd889fa5ef"
      },
      "execution_count": null,
      "outputs": [
        {
          "output_type": "stream",
          "name": "stdout",
          "text": [
            "1/1 [==============================] - 0s 24ms/step\n"
          ]
        },
        {
          "output_type": "execute_result",
          "data": {
            "text/plain": [
              "array([7])"
            ]
          },
          "metadata": {},
          "execution_count": 48
        }
      ]
    },
    {
      "cell_type": "code",
      "source": [],
      "metadata": {
        "id": "Vg_VQySolHWn"
      },
      "execution_count": null,
      "outputs": []
    }
  ]
}